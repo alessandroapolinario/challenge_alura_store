{
  "nbformat": 4,
  "nbformat_minor": 0,
  "metadata": {
    "colab": {
      "provenance": []
    },
    "kernelspec": {
      "name": "python3",
      "display_name": "Python 3"
    },
    "language_info": {
      "name": "python"
    }
  },
  "cells": [
    {
      "cell_type": "markdown",
      "source": [
        "### Importação dos dados\n",
        "\n"
      ],
      "metadata": {
        "id": "RhEdWd9YUR6H"
      }
    },
    {
      "cell_type": "code",
      "execution_count": 16,
      "metadata": {
        "colab": {
          "base_uri": "https://localhost:8080/",
          "height": 310
        },
        "id": "T3EvaeQ_INIL",
        "outputId": "8ac393ee-1661-4a03-f895-7291ff882d8a"
      },
      "outputs": [
        {
          "output_type": "execute_result",
          "data": {
            "text/plain": [
              "                 Produto Categoria do Produto    Preço      Frete  \\\n",
              "0     Assistente virtual          eletronicos   219.08   9.249790   \n",
              "1         Mesa de jantar               moveis   256.35  11.234305   \n",
              "2      Jogo de tabuleiro           brinquedos   279.51  21.262681   \n",
              "3            Micro-ondas     eletrodomesticos  1009.99  54.667344   \n",
              "4  Cadeira de escritório               moveis   446.99  26.964689   \n",
              "\n",
              "  Data da Compra        Vendedor Local da compra  Avaliação da compra  \\\n",
              "0     16/01/2021     Pedro Gomes              SP                    4   \n",
              "1     18/05/2022  Beatriz Moraes              RJ                    1   \n",
              "2     15/03/2021      João Souza              DF                    1   \n",
              "3     03/05/2022      João Souza              RS                    4   \n",
              "4     07/11/2020   Larissa Alves              MG                    5   \n",
              "\n",
              "  Tipo de pagamento  Quantidade de parcelas    lat    lon  \n",
              "0    cartao_credito                       8 -22.19 -48.79  \n",
              "1    cartao_credito                       4 -22.25 -42.66  \n",
              "2    cartao_credito                       1 -15.83 -47.86  \n",
              "3            boleto                       1 -30.17 -53.50  \n",
              "4            boleto                       1 -18.10 -44.38  "
            ],
            "text/html": [
              "\n",
              "  <div id=\"df-1915b07c-bde0-47e2-876c-7ebbfe641ad2\" class=\"colab-df-container\">\n",
              "    <div>\n",
              "<style scoped>\n",
              "    .dataframe tbody tr th:only-of-type {\n",
              "        vertical-align: middle;\n",
              "    }\n",
              "\n",
              "    .dataframe tbody tr th {\n",
              "        vertical-align: top;\n",
              "    }\n",
              "\n",
              "    .dataframe thead th {\n",
              "        text-align: right;\n",
              "    }\n",
              "</style>\n",
              "<table border=\"1\" class=\"dataframe\">\n",
              "  <thead>\n",
              "    <tr style=\"text-align: right;\">\n",
              "      <th></th>\n",
              "      <th>Produto</th>\n",
              "      <th>Categoria do Produto</th>\n",
              "      <th>Preço</th>\n",
              "      <th>Frete</th>\n",
              "      <th>Data da Compra</th>\n",
              "      <th>Vendedor</th>\n",
              "      <th>Local da compra</th>\n",
              "      <th>Avaliação da compra</th>\n",
              "      <th>Tipo de pagamento</th>\n",
              "      <th>Quantidade de parcelas</th>\n",
              "      <th>lat</th>\n",
              "      <th>lon</th>\n",
              "    </tr>\n",
              "  </thead>\n",
              "  <tbody>\n",
              "    <tr>\n",
              "      <th>0</th>\n",
              "      <td>Assistente virtual</td>\n",
              "      <td>eletronicos</td>\n",
              "      <td>219.08</td>\n",
              "      <td>9.249790</td>\n",
              "      <td>16/01/2021</td>\n",
              "      <td>Pedro Gomes</td>\n",
              "      <td>SP</td>\n",
              "      <td>4</td>\n",
              "      <td>cartao_credito</td>\n",
              "      <td>8</td>\n",
              "      <td>-22.19</td>\n",
              "      <td>-48.79</td>\n",
              "    </tr>\n",
              "    <tr>\n",
              "      <th>1</th>\n",
              "      <td>Mesa de jantar</td>\n",
              "      <td>moveis</td>\n",
              "      <td>256.35</td>\n",
              "      <td>11.234305</td>\n",
              "      <td>18/05/2022</td>\n",
              "      <td>Beatriz Moraes</td>\n",
              "      <td>RJ</td>\n",
              "      <td>1</td>\n",
              "      <td>cartao_credito</td>\n",
              "      <td>4</td>\n",
              "      <td>-22.25</td>\n",
              "      <td>-42.66</td>\n",
              "    </tr>\n",
              "    <tr>\n",
              "      <th>2</th>\n",
              "      <td>Jogo de tabuleiro</td>\n",
              "      <td>brinquedos</td>\n",
              "      <td>279.51</td>\n",
              "      <td>21.262681</td>\n",
              "      <td>15/03/2021</td>\n",
              "      <td>João Souza</td>\n",
              "      <td>DF</td>\n",
              "      <td>1</td>\n",
              "      <td>cartao_credito</td>\n",
              "      <td>1</td>\n",
              "      <td>-15.83</td>\n",
              "      <td>-47.86</td>\n",
              "    </tr>\n",
              "    <tr>\n",
              "      <th>3</th>\n",
              "      <td>Micro-ondas</td>\n",
              "      <td>eletrodomesticos</td>\n",
              "      <td>1009.99</td>\n",
              "      <td>54.667344</td>\n",
              "      <td>03/05/2022</td>\n",
              "      <td>João Souza</td>\n",
              "      <td>RS</td>\n",
              "      <td>4</td>\n",
              "      <td>boleto</td>\n",
              "      <td>1</td>\n",
              "      <td>-30.17</td>\n",
              "      <td>-53.50</td>\n",
              "    </tr>\n",
              "    <tr>\n",
              "      <th>4</th>\n",
              "      <td>Cadeira de escritório</td>\n",
              "      <td>moveis</td>\n",
              "      <td>446.99</td>\n",
              "      <td>26.964689</td>\n",
              "      <td>07/11/2020</td>\n",
              "      <td>Larissa Alves</td>\n",
              "      <td>MG</td>\n",
              "      <td>5</td>\n",
              "      <td>boleto</td>\n",
              "      <td>1</td>\n",
              "      <td>-18.10</td>\n",
              "      <td>-44.38</td>\n",
              "    </tr>\n",
              "  </tbody>\n",
              "</table>\n",
              "</div>\n",
              "    <div class=\"colab-df-buttons\">\n",
              "\n",
              "  <div class=\"colab-df-container\">\n",
              "    <button class=\"colab-df-convert\" onclick=\"convertToInteractive('df-1915b07c-bde0-47e2-876c-7ebbfe641ad2')\"\n",
              "            title=\"Convert this dataframe to an interactive table.\"\n",
              "            style=\"display:none;\">\n",
              "\n",
              "  <svg xmlns=\"http://www.w3.org/2000/svg\" height=\"24px\" viewBox=\"0 -960 960 960\">\n",
              "    <path d=\"M120-120v-720h720v720H120Zm60-500h600v-160H180v160Zm220 220h160v-160H400v160Zm0 220h160v-160H400v160ZM180-400h160v-160H180v160Zm440 0h160v-160H620v160ZM180-180h160v-160H180v160Zm440 0h160v-160H620v160Z\"/>\n",
              "  </svg>\n",
              "    </button>\n",
              "\n",
              "  <style>\n",
              "    .colab-df-container {\n",
              "      display:flex;\n",
              "      gap: 12px;\n",
              "    }\n",
              "\n",
              "    .colab-df-convert {\n",
              "      background-color: #E8F0FE;\n",
              "      border: none;\n",
              "      border-radius: 50%;\n",
              "      cursor: pointer;\n",
              "      display: none;\n",
              "      fill: #1967D2;\n",
              "      height: 32px;\n",
              "      padding: 0 0 0 0;\n",
              "      width: 32px;\n",
              "    }\n",
              "\n",
              "    .colab-df-convert:hover {\n",
              "      background-color: #E2EBFA;\n",
              "      box-shadow: 0px 1px 2px rgba(60, 64, 67, 0.3), 0px 1px 3px 1px rgba(60, 64, 67, 0.15);\n",
              "      fill: #174EA6;\n",
              "    }\n",
              "\n",
              "    .colab-df-buttons div {\n",
              "      margin-bottom: 4px;\n",
              "    }\n",
              "\n",
              "    [theme=dark] .colab-df-convert {\n",
              "      background-color: #3B4455;\n",
              "      fill: #D2E3FC;\n",
              "    }\n",
              "\n",
              "    [theme=dark] .colab-df-convert:hover {\n",
              "      background-color: #434B5C;\n",
              "      box-shadow: 0px 1px 3px 1px rgba(0, 0, 0, 0.15);\n",
              "      filter: drop-shadow(0px 1px 2px rgba(0, 0, 0, 0.3));\n",
              "      fill: #FFFFFF;\n",
              "    }\n",
              "  </style>\n",
              "\n",
              "    <script>\n",
              "      const buttonEl =\n",
              "        document.querySelector('#df-1915b07c-bde0-47e2-876c-7ebbfe641ad2 button.colab-df-convert');\n",
              "      buttonEl.style.display =\n",
              "        google.colab.kernel.accessAllowed ? 'block' : 'none';\n",
              "\n",
              "      async function convertToInteractive(key) {\n",
              "        const element = document.querySelector('#df-1915b07c-bde0-47e2-876c-7ebbfe641ad2');\n",
              "        const dataTable =\n",
              "          await google.colab.kernel.invokeFunction('convertToInteractive',\n",
              "                                                    [key], {});\n",
              "        if (!dataTable) return;\n",
              "\n",
              "        const docLinkHtml = 'Like what you see? Visit the ' +\n",
              "          '<a target=\"_blank\" href=https://colab.research.google.com/notebooks/data_table.ipynb>data table notebook</a>'\n",
              "          + ' to learn more about interactive tables.';\n",
              "        element.innerHTML = '';\n",
              "        dataTable['output_type'] = 'display_data';\n",
              "        await google.colab.output.renderOutput(dataTable, element);\n",
              "        const docLink = document.createElement('div');\n",
              "        docLink.innerHTML = docLinkHtml;\n",
              "        element.appendChild(docLink);\n",
              "      }\n",
              "    </script>\n",
              "  </div>\n",
              "\n",
              "\n",
              "    <div id=\"df-4714b326-9ad5-44df-8401-61d74a825526\">\n",
              "      <button class=\"colab-df-quickchart\" onclick=\"quickchart('df-4714b326-9ad5-44df-8401-61d74a825526')\"\n",
              "                title=\"Suggest charts\"\n",
              "                style=\"display:none;\">\n",
              "\n",
              "<svg xmlns=\"http://www.w3.org/2000/svg\" height=\"24px\"viewBox=\"0 0 24 24\"\n",
              "     width=\"24px\">\n",
              "    <g>\n",
              "        <path d=\"M19 3H5c-1.1 0-2 .9-2 2v14c0 1.1.9 2 2 2h14c1.1 0 2-.9 2-2V5c0-1.1-.9-2-2-2zM9 17H7v-7h2v7zm4 0h-2V7h2v10zm4 0h-2v-4h2v4z\"/>\n",
              "    </g>\n",
              "</svg>\n",
              "      </button>\n",
              "\n",
              "<style>\n",
              "  .colab-df-quickchart {\n",
              "      --bg-color: #E8F0FE;\n",
              "      --fill-color: #1967D2;\n",
              "      --hover-bg-color: #E2EBFA;\n",
              "      --hover-fill-color: #174EA6;\n",
              "      --disabled-fill-color: #AAA;\n",
              "      --disabled-bg-color: #DDD;\n",
              "  }\n",
              "\n",
              "  [theme=dark] .colab-df-quickchart {\n",
              "      --bg-color: #3B4455;\n",
              "      --fill-color: #D2E3FC;\n",
              "      --hover-bg-color: #434B5C;\n",
              "      --hover-fill-color: #FFFFFF;\n",
              "      --disabled-bg-color: #3B4455;\n",
              "      --disabled-fill-color: #666;\n",
              "  }\n",
              "\n",
              "  .colab-df-quickchart {\n",
              "    background-color: var(--bg-color);\n",
              "    border: none;\n",
              "    border-radius: 50%;\n",
              "    cursor: pointer;\n",
              "    display: none;\n",
              "    fill: var(--fill-color);\n",
              "    height: 32px;\n",
              "    padding: 0;\n",
              "    width: 32px;\n",
              "  }\n",
              "\n",
              "  .colab-df-quickchart:hover {\n",
              "    background-color: var(--hover-bg-color);\n",
              "    box-shadow: 0 1px 2px rgba(60, 64, 67, 0.3), 0 1px 3px 1px rgba(60, 64, 67, 0.15);\n",
              "    fill: var(--button-hover-fill-color);\n",
              "  }\n",
              "\n",
              "  .colab-df-quickchart-complete:disabled,\n",
              "  .colab-df-quickchart-complete:disabled:hover {\n",
              "    background-color: var(--disabled-bg-color);\n",
              "    fill: var(--disabled-fill-color);\n",
              "    box-shadow: none;\n",
              "  }\n",
              "\n",
              "  .colab-df-spinner {\n",
              "    border: 2px solid var(--fill-color);\n",
              "    border-color: transparent;\n",
              "    border-bottom-color: var(--fill-color);\n",
              "    animation:\n",
              "      spin 1s steps(1) infinite;\n",
              "  }\n",
              "\n",
              "  @keyframes spin {\n",
              "    0% {\n",
              "      border-color: transparent;\n",
              "      border-bottom-color: var(--fill-color);\n",
              "      border-left-color: var(--fill-color);\n",
              "    }\n",
              "    20% {\n",
              "      border-color: transparent;\n",
              "      border-left-color: var(--fill-color);\n",
              "      border-top-color: var(--fill-color);\n",
              "    }\n",
              "    30% {\n",
              "      border-color: transparent;\n",
              "      border-left-color: var(--fill-color);\n",
              "      border-top-color: var(--fill-color);\n",
              "      border-right-color: var(--fill-color);\n",
              "    }\n",
              "    40% {\n",
              "      border-color: transparent;\n",
              "      border-right-color: var(--fill-color);\n",
              "      border-top-color: var(--fill-color);\n",
              "    }\n",
              "    60% {\n",
              "      border-color: transparent;\n",
              "      border-right-color: var(--fill-color);\n",
              "    }\n",
              "    80% {\n",
              "      border-color: transparent;\n",
              "      border-right-color: var(--fill-color);\n",
              "      border-bottom-color: var(--fill-color);\n",
              "    }\n",
              "    90% {\n",
              "      border-color: transparent;\n",
              "      border-bottom-color: var(--fill-color);\n",
              "    }\n",
              "  }\n",
              "</style>\n",
              "\n",
              "      <script>\n",
              "        async function quickchart(key) {\n",
              "          const quickchartButtonEl =\n",
              "            document.querySelector('#' + key + ' button');\n",
              "          quickchartButtonEl.disabled = true;  // To prevent multiple clicks.\n",
              "          quickchartButtonEl.classList.add('colab-df-spinner');\n",
              "          try {\n",
              "            const charts = await google.colab.kernel.invokeFunction(\n",
              "                'suggestCharts', [key], {});\n",
              "          } catch (error) {\n",
              "            console.error('Error during call to suggestCharts:', error);\n",
              "          }\n",
              "          quickchartButtonEl.classList.remove('colab-df-spinner');\n",
              "          quickchartButtonEl.classList.add('colab-df-quickchart-complete');\n",
              "        }\n",
              "        (() => {\n",
              "          let quickchartButtonEl =\n",
              "            document.querySelector('#df-4714b326-9ad5-44df-8401-61d74a825526 button');\n",
              "          quickchartButtonEl.style.display =\n",
              "            google.colab.kernel.accessAllowed ? 'block' : 'none';\n",
              "        })();\n",
              "      </script>\n",
              "    </div>\n",
              "\n",
              "    </div>\n",
              "  </div>\n"
            ],
            "application/vnd.google.colaboratory.intrinsic+json": {
              "type": "dataframe",
              "variable_name": "loja",
              "summary": "{\n  \"name\": \"loja\",\n  \"rows\": 2359,\n  \"fields\": [\n    {\n      \"column\": \"Produto\",\n      \"properties\": {\n        \"dtype\": \"category\",\n        \"num_unique_values\": 51,\n        \"samples\": [\n          \"Viol\\u00e3o\",\n          \"Bola de basquete\",\n          \"Smartwatch\"\n        ],\n        \"semantic_type\": \"\",\n        \"description\": \"\"\n      }\n    },\n    {\n      \"column\": \"Categoria do Produto\",\n      \"properties\": {\n        \"dtype\": \"category\",\n        \"num_unique_values\": 8,\n        \"samples\": [\n          \"moveis\",\n          \"esporte e lazer\",\n          \"eletronicos\"\n        ],\n        \"semantic_type\": \"\",\n        \"description\": \"\"\n      }\n    },\n    {\n      \"column\": \"Pre\\u00e7o\",\n      \"properties\": {\n        \"dtype\": \"number\",\n        \"std\": 819.5827782539145,\n        \"min\": 10.07,\n        \"max\": 3969.38,\n        \"num_unique_values\": 2315,\n        \"samples\": [\n          446.11,\n          107.31,\n          65.86\n        ],\n        \"semantic_type\": \"\",\n        \"description\": \"\"\n      }\n    },\n    {\n      \"column\": \"Frete\",\n      \"properties\": {\n        \"dtype\": \"number\",\n        \"std\": 43.814183327408166,\n        \"min\": 0.0,\n        \"max\": 214.3770604781,\n        \"num_unique_values\": 2149,\n        \"samples\": [\n          83.815279607,\n          16.069664669,\n          14.0344876928\n        ],\n        \"semantic_type\": \"\",\n        \"description\": \"\"\n      }\n    },\n    {\n      \"column\": \"Data da Compra\",\n      \"properties\": {\n        \"dtype\": \"object\",\n        \"num_unique_values\": 1018,\n        \"samples\": [\n          \"15/09/2022\",\n          \"03/06/2020\",\n          \"06/11/2021\"\n        ],\n        \"semantic_type\": \"\",\n        \"description\": \"\"\n      }\n    },\n    {\n      \"column\": \"Vendedor\",\n      \"properties\": {\n        \"dtype\": \"category\",\n        \"num_unique_values\": 14,\n        \"samples\": [\n          \"Juliana Costa\",\n          \"Mariana Ferreira\",\n          \"Pedro Gomes\"\n        ],\n        \"semantic_type\": \"\",\n        \"description\": \"\"\n      }\n    },\n    {\n      \"column\": \"Local da compra\",\n      \"properties\": {\n        \"dtype\": \"category\",\n        \"num_unique_values\": 26,\n        \"samples\": [\n          \"TO\",\n          \"RN\",\n          \"SP\"\n        ],\n        \"semantic_type\": \"\",\n        \"description\": \"\"\n      }\n    },\n    {\n      \"column\": \"Avalia\\u00e7\\u00e3o da compra\",\n      \"properties\": {\n        \"dtype\": \"number\",\n        \"std\": 1,\n        \"min\": 1,\n        \"max\": 5,\n        \"num_unique_values\": 5,\n        \"samples\": [\n          1,\n          2,\n          5\n        ],\n        \"semantic_type\": \"\",\n        \"description\": \"\"\n      }\n    },\n    {\n      \"column\": \"Tipo de pagamento\",\n      \"properties\": {\n        \"dtype\": \"category\",\n        \"num_unique_values\": 4,\n        \"samples\": [\n          \"boleto\",\n          \"cartao_debito\",\n          \"cartao_credito\"\n        ],\n        \"semantic_type\": \"\",\n        \"description\": \"\"\n      }\n    },\n    {\n      \"column\": \"Quantidade de parcelas\",\n      \"properties\": {\n        \"dtype\": \"number\",\n        \"std\": 2,\n        \"min\": 1,\n        \"max\": 24,\n        \"num_unique_values\": 15,\n        \"samples\": [\n          7,\n          14,\n          8\n        ],\n        \"semantic_type\": \"\",\n        \"description\": \"\"\n      }\n    },\n    {\n      \"column\": \"lat\",\n      \"properties\": {\n        \"dtype\": \"number\",\n        \"std\": 5.372399916530833,\n        \"min\": -30.17,\n        \"max\": 1.41,\n        \"num_unique_values\": 26,\n        \"samples\": [\n          -9.46,\n          -5.81,\n          -22.19\n        ],\n        \"semantic_type\": \"\",\n        \"description\": \"\"\n      }\n    },\n    {\n      \"column\": \"lon\",\n      \"properties\": {\n        \"dtype\": \"number\",\n        \"std\": 4.183180020544179,\n        \"min\": -70.55,\n        \"max\": -36.59,\n        \"num_unique_values\": 26,\n        \"samples\": [\n          -48.26,\n          -36.59,\n          -48.79\n        ],\n        \"semantic_type\": \"\",\n        \"description\": \"\"\n      }\n    }\n  ]\n}"
            }
          },
          "metadata": {},
          "execution_count": 16
        }
      ],
      "source": [
        "import pandas as pd\n",
        "\n",
        "url = \"https://raw.githubusercontent.com/alura-es-cursos/challenge1-data-science/refs/heads/main/base-de-dados-challenge-1/loja_1.csv\"\n",
        "url2 = \"https://raw.githubusercontent.com/alura-es-cursos/challenge1-data-science/refs/heads/main/base-de-dados-challenge-1/loja_2.csv\"\n",
        "url3 = \"https://raw.githubusercontent.com/alura-es-cursos/challenge1-data-science/refs/heads/main/base-de-dados-challenge-1/loja_3.csv\"\n",
        "url4 = \"https://raw.githubusercontent.com/alura-es-cursos/challenge1-data-science/refs/heads/main/base-de-dados-challenge-1/loja_4.csv\"\n",
        "\n",
        "loja = pd.read_csv(url)\n",
        "loja2 = pd.read_csv(url2)\n",
        "loja3 = pd.read_csv(url3)\n",
        "loja4 = pd.read_csv(url4)\n",
        "\n",
        "loja.head()"
      ]
    },
    {
      "cell_type": "markdown",
      "source": [
        "#1. Análise do faturamento\n"
      ],
      "metadata": {
        "id": "X62IW3KFUIYm"
      }
    },
    {
      "cell_type": "code",
      "source": [
        "faturamento_loja1 = loja['Preço'].astype(float).sum()\n",
        "faturamento_loja2 = loja2['Preço'].astype(float).sum()\n",
        "faturamento_loja3 = loja3['Preço'].astype(float).sum()\n",
        "faturamento_loja4 = loja4['Preço'].astype(float).sum()\n",
        "\n",
        "print(f\"Faturamento Loja 1: R${faturamento_loja1:.2f}\")\n",
        "print(f\"Faturamento Loja 2: R${faturamento_loja2:.2f}\")\n",
        "print(f\"Faturamento Loja 3: R${faturamento_loja3:.2f}\")\n",
        "print(f\"Faturamento Loja 4: R${faturamento_loja4:.2f}\")\n",
        "\n",
        "faturamento_total = faturamento_loja1 + faturamento_loja2 + faturamento_loja3 + faturamento_loja4\n",
        "print(f\"\\nFaturamento total de todas as lojas: R${faturamento_total:.2f}\")"
      ],
      "metadata": {
        "id": "KDyr8E71V3m-",
        "colab": {
          "base_uri": "https://localhost:8080/"
        },
        "outputId": "d67389c7-7994-4d97-b984-b6d30944d12a"
      },
      "execution_count": 17,
      "outputs": [
        {
          "output_type": "stream",
          "name": "stdout",
          "text": [
            "Faturamento Loja 1: R$1534509.12\n",
            "Faturamento Loja 2: R$1488459.06\n",
            "Faturamento Loja 3: R$1464025.03\n",
            "Faturamento Loja 4: R$1384497.58\n",
            "\n",
            "Faturamento total de todas as lojas: R$5871490.79\n"
          ]
        }
      ]
    },
    {
      "cell_type": "markdown",
      "source": [
        "# 2. Vendas por Categoria\n"
      ],
      "metadata": {
        "id": "2V_vcAPzWZmR"
      }
    },
    {
      "cell_type": "code",
      "source": [
        "def vendas_por_categoria(loja, numero):\n",
        "  vendas = loja.groupby('Categoria do Produto')['Preço'].sum()\n",
        "  print(f\"\\nVendas por categoria na Loja{numero}:\")\n",
        "  print(vendas)\n",
        "\n",
        "vendas_por_categoria(loja, 1)\n",
        "vendas_por_categoria(loja2, 2)\n",
        "vendas_por_categoria(loja3, 3)\n",
        "vendas_por_categoria(loja4, 4)"
      ],
      "metadata": {
        "id": "A34YupIuYhfF",
        "colab": {
          "base_uri": "https://localhost:8080/"
        },
        "outputId": "5e2b7456-4e52-4679-a99e-591b411e681b"
      },
      "execution_count": 18,
      "outputs": [
        {
          "output_type": "stream",
          "name": "stdout",
          "text": [
            "\n",
            "Vendas por categoria na Loja1:\n",
            "Categoria do Produto\n",
            "brinquedos                23993.78\n",
            "eletrodomesticos         484913.36\n",
            "eletronicos              572659.23\n",
            "esporte e lazer           52387.55\n",
            "instrumentos musicais    121731.69\n",
            "livros                    11713.92\n",
            "moveis                   250178.11\n",
            "utilidades domesticas     16931.48\n",
            "Name: Preço, dtype: float64\n",
            "\n",
            "Vendas por categoria na Loja2:\n",
            "Categoria do Produto\n",
            "brinquedos                21262.21\n",
            "eletrodomesticos         464758.13\n",
            "eletronicos              547773.71\n",
            "esporte e lazer           46326.09\n",
            "instrumentos musicais    139987.03\n",
            "livros                    13454.35\n",
            "moveis                   235234.68\n",
            "utilidades domesticas     19662.86\n",
            "Name: Preço, dtype: float64\n",
            "\n",
            "Vendas por categoria na Loja3:\n",
            "Categoria do Produto\n",
            "brinquedos                25869.20\n",
            "eletrodomesticos         438984.89\n",
            "eletronicos              547699.92\n",
            "esporte e lazer           47456.10\n",
            "instrumentos musicais    103174.45\n",
            "livros                    12664.70\n",
            "moveis                   268095.56\n",
            "utilidades domesticas     20080.21\n",
            "Name: Preço, dtype: float64\n",
            "\n",
            "Vendas por categoria na Loja4:\n",
            "Categoria do Produto\n",
            "brinquedos                27015.67\n",
            "eletrodomesticos         377680.65\n",
            "eletronicos              545966.86\n",
            "esporte e lazer           44465.65\n",
            "instrumentos musicais    100136.50\n",
            "livros                    12427.77\n",
            "moveis                   256705.65\n",
            "utilidades domesticas     20098.83\n",
            "Name: Preço, dtype: float64\n"
          ]
        }
      ]
    },
    {
      "cell_type": "markdown",
      "source": [
        "# 3. Média de Avaliação das Lojas"
      ],
      "metadata": {
        "id": "Rq6tU_xSY3jk"
      }
    },
    {
      "cell_type": "code",
      "source": [
        "def avaliacao_media(loja, numero):\n",
        "  media = loja['Avaliação da compra'].mean()\n",
        "  print(f\"Avaliação média da Loja {numero}: {media:.2f}\")\n",
        "\n",
        "avaliacao_media(loja, 1)\n",
        "avaliacao_media(loja2, 2)\n",
        "avaliacao_media(loja3, 3)\n",
        "avaliacao_media(loja4, 4)"
      ],
      "metadata": {
        "id": "bh3jjjJwY5MU",
        "colab": {
          "base_uri": "https://localhost:8080/"
        },
        "outputId": "a1218314-6f83-40bd-d5c9-abd01dd0f9a2"
      },
      "execution_count": 19,
      "outputs": [
        {
          "output_type": "stream",
          "name": "stdout",
          "text": [
            "Avaliação média da Loja 1: 3.98\n",
            "Avaliação média da Loja 2: 4.04\n",
            "Avaliação média da Loja 3: 4.05\n",
            "Avaliação média da Loja 4: 4.00\n"
          ]
        }
      ]
    },
    {
      "cell_type": "markdown",
      "source": [
        "# 4. Produtos Mais e Menos Vendidos"
      ],
      "metadata": {
        "id": "DmNp1KPBZCm-"
      }
    },
    {
      "cell_type": "code",
      "source": [
        "urls = [url, url2, url3, url4]\n",
        "\n",
        "df_list = []\n",
        "for i, url in enumerate(urls):\n",
        "  df = pd.read_csv(url)\n",
        "  df['Loja'] = i + 1  # Assign store number\n",
        "  df_list.append(df)\n",
        "\n",
        "df_total = pd.concat(df_list, ignore_index=True)\n",
        "\n",
        "df_total['Preço'] = df_total['Preço'].astype(float)\n",
        "\n",
        "df_total['Receita'] = df_total['Preço']\n",
        "\n",
        "vendas = df_total.groupby(['Loja', 'Produto'])['Receita'].sum().reset_index()\n",
        "\n",
        "def top_produtos(loja):\n",
        "  dados = vendas[vendas['Loja'] == loja]\n",
        "\n",
        "  top_mais_vendidos = dados.sort_values(by='Receita', ascending=False).head(3)\n",
        "  top_menos_vendidos = dados.sort_values(by='Receita', ascending=True).head(3)\n",
        "\n",
        "  print(f\"\\nLoja {loja} - TOP 3 produtos que mais dinheiro geraram:\")\n",
        "  for _, linha in top_mais_vendidos.iterrows():\n",
        "        print(f\"  {linha['Produto']} - Receita: R${linha['Receita']:.2f}\")\n",
        "\n",
        "  print(f\"\\nLoja {loja} - TOP 3 produtos que menos dinheiro geraram:\")\n",
        "  for _, linha in top_menos_vendidos.iterrows():\n",
        "        print(f\"  {linha['Produto']} - Receita: R${linha['Receita']:.2f}\")\n",
        "\n",
        "lojas_unicas = vendas['Loja'].unique()\n",
        "\n",
        "for loja in lojas_unicas:\n",
        "  top_produtos(loja)"
      ],
      "metadata": {
        "id": "0Sw3sd4IZIGW",
        "colab": {
          "base_uri": "https://localhost:8080/"
        },
        "outputId": "b0461ef7-fbf0-4ebd-d94d-6385b5c9d3a9"
      },
      "execution_count": 20,
      "outputs": [
        {
          "output_type": "stream",
          "name": "stdout",
          "text": [
            "\n",
            "Loja 1 - TOP 3 produtos que mais dinheiro geraram:\n",
            "  TV Led UHD 4K - Receita: R$189534.28\n",
            "  Geladeira - Receita: R$149524.28\n",
            "  Celular Plus X42 - Receita: R$130536.40\n",
            "\n",
            "Loja 1 - TOP 3 produtos que menos dinheiro geraram:\n",
            "  Corda de pular - Receita: R$870.89\n",
            "  Dinossauro Rex - Receita: R$918.40\n",
            "  Cubo mágico 8x8 - Receita: R$929.27\n",
            "\n",
            "Loja 2 - TOP 3 produtos que mais dinheiro geraram:\n",
            "  Celular Plus X42 - Receita: R$150967.83\n",
            "  TV Led UHD 4K - Receita: R$137833.06\n",
            "  Geladeira - Receita: R$130176.48\n",
            "\n",
            "Loja 2 - TOP 3 produtos que menos dinheiro geraram:\n",
            "  Cubo mágico 8x8 - Receita: R$858.22\n",
            "  Dinossauro Rex - Receita: R$1027.41\n",
            "  Corda de pular - Receita: R$1142.54\n",
            "\n",
            "Loja 3 - TOP 3 produtos que mais dinheiro geraram:\n",
            "  Geladeira - Receita: R$133185.99\n",
            "  TV Led UHD 4K - Receita: R$128892.11\n",
            "  Celular Plus X42 - Receita: R$124300.84\n",
            "\n",
            "Loja 3 - TOP 3 produtos que menos dinheiro geraram:\n",
            "  Cubo mágico 8x8 - Receita: R$853.81\n",
            "  Dinossauro Rex - Receita: R$1060.78\n",
            "  Corda de pular - Receita: R$1137.76\n",
            "\n",
            "Loja 4 - TOP 3 produtos que mais dinheiro geraram:\n",
            "  Celular Plus X42 - Receita: R$128930.07\n",
            "  TV Led UHD 4K - Receita: R$120393.25\n",
            "  Smart TV - Receita: R$110387.57\n",
            "\n",
            "Loja 4 - TOP 3 produtos que menos dinheiro geraram:\n",
            "  Corda de pular - Receita: R$939.74\n",
            "  Cubo mágico 8x8 - Receita: R$997.38\n",
            "  Dinossauro Rex - Receita: R$1143.94\n"
          ]
        }
      ]
    },
    {
      "cell_type": "markdown",
      "source": [
        "# 5. Frete Médio por Loja\n"
      ],
      "metadata": {
        "id": "Fl0cGi3bZKqU"
      }
    },
    {
      "cell_type": "code",
      "source": [
        "df_total['Frete'] = df_total['Frete'].astype(float)\n",
        "\n",
        "frete_medio = df_total.groupby('Loja')['Frete'].mean()\n",
        "\n",
        "print(\"\\nFrete médio por loja:\")\n",
        "for loja, frete in frete_medio.items():\n",
        "    print(f\"Loja {loja}: R${frete:.2f}\")\n"
      ],
      "metadata": {
        "id": "0tSdCie9ZQlt",
        "colab": {
          "base_uri": "https://localhost:8080/"
        },
        "outputId": "30e30c67-ec99-487c-811d-aba072c4ea95"
      },
      "execution_count": 21,
      "outputs": [
        {
          "output_type": "stream",
          "name": "stdout",
          "text": [
            "\n",
            "Frete médio por loja:\n",
            "Loja 1: R$34.69\n",
            "Loja 2: R$33.62\n",
            "Loja 3: R$33.07\n",
            "Loja 4: R$31.28\n"
          ]
        }
      ]
    },
    {
      "cell_type": "markdown",
      "source": [
        "#Gráficos"
      ],
      "metadata": {
        "id": "RuKsgbd2HgC7"
      }
    },
    {
      "cell_type": "code",
      "source": [
        "import matplotlib.pyplot as plt\n",
        "\n",
        "df_total['Preço'] = df_total['Preço'].astype(float)\n",
        "df_total['Receita'] = df_total['Preço']\n",
        "\n",
        "receitas_totais = df_total.groupby('Loja')['Receita'].sum()\n",
        "receita_media = df_total.groupby('Loja')['Receita'].mean()\n",
        "distribuicao_receitas = receitas_totais\n",
        "\n",
        "#1. Gráfico de Barra: Total de Receitas\n",
        "plt.figure(figsize=(8,5))\n",
        "receitas_totais.plot(kind='bar')\n",
        "plt.title('Receitas Totais por Loja')\n",
        "plt.ylabel('Total de Receitas (R$)')\n",
        "plt.xlabel('Loja')\n",
        "plt.grid(axis='y')\n",
        "plt.tight_layout()\n",
        "plt.show()\n",
        "\n",
        "#2. Gráfico de Linha: Receita Média por Venda\n",
        "plt.figure(figsize=(8,5))\n",
        "receita_media.plot(kind='line', marker='o', linestyle='--', color='orange')\n",
        "plt.title('Receita Média por Venda por Loja')\n",
        "plt.ylabel('Receita Média (R$)')\n",
        "plt.xlabel('Loja')\n",
        "plt.grid(True)\n",
        "plt.tight_layout()\n",
        "plt.show()\n",
        "\n",
        "#3. Gráfico de Pizza: Distribuição do Total\n",
        "plt.figure(figsize=(7,7))\n",
        "distribuicao_receitas.plot(kind='pie', autopct='%1.1f%%', startangle=90)\n",
        "plt.title('Participação de Cada Loja nas Receitas Totais')\n",
        "plt.ylabel('')\n",
        "plt.tight_layout()\n",
        "plt.show()"
      ],
      "metadata": {
        "colab": {
          "base_uri": "https://localhost:8080/",
          "height": 1000
        },
        "id": "UprP9PqjF3k8",
        "outputId": "61c788f5-c2a0-4997-abb3-36993f5acc7e"
      },
      "execution_count": 22,
      "outputs": [
        {
          "output_type": "display_data",
          "data": {
            "text/plain": [
              "<Figure size 800x500 with 1 Axes>"
            ],
            "image/png": "[encoded data removed]"
          },
          "metadata": {}
        },
        {
          "output_type": "display_data",
          "data": {
            "text/plain": [
              "<Figure size 800x500 with 1 Axes>"
            ],
            "image/png": "[encoded data removed]"
          },
          "metadata": {}
        },
        {
          "output_type": "display_data",
          "data": {
            "text/plain": [
              "<Figure size 700x700 with 1 Axes>"
            ],
            "image/png": "[encoded data removed]"
          },
          "metadata": {}
        }
      ]
    },
    {
      "cell_type": "markdown",
      "source": [
        "#Relatório  "
      ],
      "metadata": {
        "id": "8vODzJgxyhy5"
      }
    },
    {
      "cell_type": "markdown",
      "source": [
        "Diante das informações que foram tratadas e analisadas, recomendamos, a princípio, ao Sr. João que venda a Loja 4.\n",
        "\n",
        "Analisando o faturamento das quatro lojas, a Loja 4 foi a que apresentou o menor faturamento dentre as demais, obtendo um faturamento de R$ 1.384.497,58.\n",
        "\n",
        "Considerando a receita média de venda, a Loja 4 também apresentou o pior índice em relação as demais lojas. Obtendo uma receita média de R$ 587,15.\n",
        "\n",
        "Por fim, se considerarmos o custo do frete médio por loja, a Loja 4 é a que apresenta o menor custo de R$ 31,28. É o único ponto positivo a ser destacado na Loja 4.\n",
        "\n",
        "Dessa forma, apesar de recomendarmos a priori a venda da Loja 4 para o Sr. João, com base nas informações que foram levantadas, faz-se necessário analisar mais informações, como o Fluxo de Caixa, o Demonstrativo do Resultado Operacional (DRE), Balanço Patrimonial, Capital de Giro, e os Indicadores econômico-financeiros.\n",
        "\n",
        "Portanto, para uma análise mais crieriosa que embasaria a tomada de decisão do Sr. João, seria interessante levantar e analisar estas informações relevantes."
      ],
      "metadata": {
        "id": "IKhlYWA18Ofx"
      }
    }
  ]
}